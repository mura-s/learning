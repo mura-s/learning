{
 "cells": [
  {
   "cell_type": "code",
   "execution_count": 1,
   "metadata": {
    "collapsed": false
   },
   "outputs": [
    {
     "name": "stdout",
     "output_type": "stream",
     "text": [
      "/Users/muramatsu/Documents/work/python-exercise/ml4se-master/scripts\n"
     ]
    }
   ],
   "source": [
    "cd scripts/"
   ]
  },
  {
   "cell_type": "code",
   "execution_count": 3,
   "metadata": {
    "collapsed": false
   },
   "outputs": [
    {
     "name": "stdout",
     "output_type": "stream",
     "text": [
      "Table of the coefficients\n",
      "        M=0       M=1        M=3            M=9\n",
      "0  0.024645  0.670539   0.492084       0.308915\n",
      "1       NaN -1.291789   5.064736       5.387457\n",
      "2       NaN       NaN -20.638046     362.679539\n",
      "3       NaN       NaN  15.342218   -5891.161233\n",
      "4       NaN       NaN        NaN   36393.725229\n",
      "5       NaN       NaN        NaN -117299.384535\n",
      "6       NaN       NaN        NaN  215470.896151\n",
      "7       NaN       NaN        NaN -227273.772619\n",
      "8       NaN       NaN        NaN  128220.193913\n",
      "9       NaN       NaN        NaN  -29988.813997\n"
     ]
    }
   ],
   "source": [
    "%run 02-square_error.py"
   ]
  },
  {
   "cell_type": "code",
   "execution_count": null,
   "metadata": {
    "collapsed": true
   },
   "outputs": [],
   "source": []
  }
 ],
 "metadata": {
  "kernelspec": {
   "display_name": "Python [Root]",
   "language": "python",
   "name": "Python [Root]"
  },
  "language_info": {
   "codemirror_mode": {
    "name": "ipython",
    "version": 3
   },
   "file_extension": ".py",
   "mimetype": "text/x-python",
   "name": "python",
   "nbconvert_exporter": "python",
   "pygments_lexer": "ipython3",
   "version": "3.5.2"
  }
 },
 "nbformat": 4,
 "nbformat_minor": 0
}
